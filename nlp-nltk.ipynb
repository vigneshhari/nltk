{
 "cells": [
  {
   "cell_type": "code",
   "execution_count": 6,
   "metadata": {
    "collapsed": true
   },
   "outputs": [],
   "source": [
    "from nltk.tokenize import word_tokenize, sent_tokenize\n",
    "from nltk.corpus import stopwords\n",
    "from nltk.stem import PorterStemmer"
   ]
  },
  {
   "cell_type": "code",
   "execution_count": 7,
   "metadata": {
    "collapsed": false
   },
   "outputs": [],
   "source": [
    "example_data = \"This is a sample copora. but whyy! the porter stemmer of the delicious ospicious chicken curry is famishable.\""
   ]
  },
  {
   "cell_type": "code",
   "execution_count": 10,
   "metadata": {
    "collapsed": false
   },
   "outputs": [
    {
     "name": "stdout",
     "output_type": "stream",
     "text": [
      "['This', 'is', 'a', 'sample', 'copora', '.', 'but', 'whyy', '!', 'the', 'porter', 'stemmer', 'of', 'the', 'delicious', 'ospicious', 'chicken', 'curry', 'is', 'famishable', '.']\n"
     ]
    }
   ],
   "source": [
    "print(word_tokenize(example_data))"
   ]
  },
  {
   "cell_type": "code",
   "execution_count": 11,
   "metadata": {
    "collapsed": false
   },
   "outputs": [
    {
     "name": "stdout",
     "output_type": "stream",
     "text": [
      "['This is a sample copora.', 'but whyy!', 'the porter stemmer of the delicious ospicious chicken curry is famishable.']\n"
     ]
    }
   ],
   "source": [
    "print(sent_tokenize(example_data))"
   ]
  },
  {
   "cell_type": "code",
   "execution_count": 15,
   "metadata": {
    "collapsed": false
   },
   "outputs": [
    {
     "name": "stdout",
     "output_type": "stream",
     "text": [
      "['This', 'sample', 'copora', '.', 'whyy', '!', 'porter', 'stemmer', 'delicious', 'ospicious', 'chicken', 'curry', 'famishable', '.']\n"
     ]
    }
   ],
   "source": [
    "print(list(w for w in word_tokenize(example_data) if not w in stopwords.words()))"
   ]
  },
  {
   "cell_type": "code",
   "execution_count": 24,
   "metadata": {
    "collapsed": false
   },
   "outputs": [
    {
     "name": "stdout",
     "output_type": "stream",
     "text": [
      "['thi', 'is', 'a', 'sampl', 'copora', '.', 'but', 'whyy', '!', 'the', 'porter', 'stemmer', 'of', 'the', 'delici', 'ospici', 'chicken', 'curri', 'is', 'famish', '.']\n"
     ]
    }
   ],
   "source": [
    "print(list(PorterStemmer().stem(w) for w in word_tokenize(example_data)))"
   ]
  },
  {
   "cell_type": "code",
   "execution_count": null,
   "metadata": {
    "collapsed": true
   },
   "outputs": [],
   "source": []
  }
 ],
 "metadata": {
  "kernelspec": {
   "display_name": "Python 3",
   "language": "python",
   "name": "python3"
  },
  "language_info": {
   "codemirror_mode": {
    "name": "ipython",
    "version": 3
   },
   "file_extension": ".py",
   "mimetype": "text/x-python",
   "name": "python",
   "nbconvert_exporter": "python",
   "pygments_lexer": "ipython3",
   "version": "3.6.0"
  }
 },
 "nbformat": 4,
 "nbformat_minor": 2
}
