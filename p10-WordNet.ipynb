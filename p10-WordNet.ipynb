{
 "cells": [
  {
   "cell_type": "code",
   "execution_count": 1,
   "metadata": {
    "collapsed": true
   },
   "outputs": [],
   "source": [
    "from nltk.corpus import wordnet"
   ]
  },
  {
   "cell_type": "code",
   "execution_count": 2,
   "metadata": {
    "collapsed": true
   },
   "outputs": [],
   "source": [
    "syns = wordnet.synsets(\"program\")"
   ]
  },
  {
   "cell_type": "code",
   "execution_count": 9,
   "metadata": {
    "collapsed": false
   },
   "outputs": [
    {
     "name": "stdout",
     "output_type": "stream",
     "text": [
      "[Synset('plan.n.01'), Synset('program.n.02'), Synset('broadcast.n.02'), Synset('platform.n.02'), Synset('program.n.05'), Synset('course_of_study.n.01'), Synset('program.n.07'), Synset('program.n.08'), Synset('program.v.01'), Synset('program.v.02')]\n"
     ]
    }
   ],
   "source": [
    "print(syns)"
   ]
  },
  {
   "cell_type": "code",
   "execution_count": 11,
   "metadata": {
    "collapsed": false
   },
   "outputs": [
    {
     "name": "stdout",
     "output_type": "stream",
     "text": [
      "plan.n.01\n"
     ]
    }
   ],
   "source": [
    "#synset\n",
    "print(syns[0].name())"
   ]
  },
  {
   "cell_type": "code",
   "execution_count": 13,
   "metadata": {
    "collapsed": false
   },
   "outputs": [
    {
     "name": "stdout",
     "output_type": "stream",
     "text": [
      "plan\n"
     ]
    }
   ],
   "source": [
    "#just the word\n",
    "print(syns[0].lemmas()[0].name())"
   ]
  },
  {
   "cell_type": "code",
   "execution_count": 15,
   "metadata": {
    "collapsed": false
   },
   "outputs": [
    {
     "name": "stdout",
     "output_type": "stream",
     "text": [
      "a series of steps to be carried out or goals to be accomplished\n"
     ]
    }
   ],
   "source": [
    "#definition\n",
    "print(syns[0].definition())"
   ]
  },
  {
   "cell_type": "code",
   "execution_count": 17,
   "metadata": {
    "collapsed": false
   },
   "outputs": [
    {
     "name": "stdout",
     "output_type": "stream",
     "text": [
      "['they drew up a six-step plan', 'they discussed plans for a new bond issue']\n"
     ]
    }
   ],
   "source": [
    "#examples\n",
    "print(syns[0].examples())"
   ]
  },
  {
   "cell_type": "code",
   "execution_count": 19,
   "metadata": {
    "collapsed": false
   },
   "outputs": [
    {
     "name": "stdout",
     "output_type": "stream",
     "text": [
      "Lemma('good.n.01.good')\n",
      "Lemma('good.n.02.good')\n",
      "Lemma('good.n.02.goodness')\n",
      "Lemma('good.n.03.good')\n",
      "Lemma('good.n.03.goodness')\n",
      "Lemma('commodity.n.01.commodity')\n",
      "Lemma('commodity.n.01.trade_good')\n",
      "Lemma('commodity.n.01.good')\n",
      "Lemma('good.a.01.good')\n",
      "Lemma('full.s.06.full')\n",
      "Lemma('full.s.06.good')\n",
      "Lemma('good.a.03.good')\n",
      "Lemma('estimable.s.02.estimable')\n",
      "Lemma('estimable.s.02.good')\n",
      "Lemma('estimable.s.02.honorable')\n",
      "Lemma('estimable.s.02.respectable')\n",
      "Lemma('beneficial.s.01.beneficial')\n",
      "Lemma('beneficial.s.01.good')\n",
      "Lemma('good.s.06.good')\n",
      "Lemma('good.s.07.good')\n",
      "Lemma('good.s.07.just')\n",
      "Lemma('good.s.07.upright')\n",
      "Lemma('adept.s.01.adept')\n",
      "Lemma('adept.s.01.expert')\n",
      "Lemma('adept.s.01.good')\n",
      "Lemma('adept.s.01.practiced')\n",
      "Lemma('adept.s.01.proficient')\n",
      "Lemma('adept.s.01.skillful')\n",
      "Lemma('adept.s.01.skilful')\n",
      "Lemma('good.s.09.good')\n",
      "Lemma('dear.s.02.dear')\n",
      "Lemma('dear.s.02.good')\n",
      "Lemma('dear.s.02.near')\n",
      "Lemma('dependable.s.04.dependable')\n",
      "Lemma('dependable.s.04.good')\n",
      "Lemma('dependable.s.04.safe')\n",
      "Lemma('dependable.s.04.secure')\n",
      "Lemma('good.s.12.good')\n",
      "Lemma('good.s.12.right')\n",
      "Lemma('good.s.12.ripe')\n",
      "Lemma('good.s.13.good')\n",
      "Lemma('good.s.13.well')\n",
      "Lemma('effective.s.04.effective')\n",
      "Lemma('effective.s.04.good')\n",
      "Lemma('effective.s.04.in_effect')\n",
      "Lemma('effective.s.04.in_force')\n",
      "Lemma('good.s.15.good')\n",
      "Lemma('good.s.16.good')\n",
      "Lemma('good.s.16.serious')\n",
      "Lemma('good.s.17.good')\n",
      "Lemma('good.s.17.sound')\n",
      "Lemma('good.s.18.good')\n",
      "Lemma('good.s.18.salutary')\n",
      "Lemma('good.s.19.good')\n",
      "Lemma('good.s.19.honest')\n",
      "Lemma('good.s.20.good')\n",
      "Lemma('good.s.20.undecomposed')\n",
      "Lemma('good.s.20.unspoiled')\n",
      "Lemma('good.s.20.unspoilt')\n",
      "Lemma('good.s.21.good')\n",
      "Lemma('well.r.01.well')\n",
      "Lemma('well.r.01.good')\n",
      "Lemma('thoroughly.r.02.thoroughly')\n",
      "Lemma('thoroughly.r.02.soundly')\n",
      "Lemma('thoroughly.r.02.good')\n",
      "{'honest', 'skillful', 'skilful', 'safe', 'thoroughly', 'just', 'dear', 'secure', 'honorable', 'sound', 'expert', 'ripe', 'well', 'unspoilt', 'near', 'soundly', 'commodity', 'respectable', 'right', 'unspoiled', 'full', 'practiced', 'effective', 'proficient', 'goodness', 'serious', 'beneficial', 'salutary', 'undecomposed', 'trade_good', 'adept', 'in_effect', 'dependable', 'in_force', 'upright', 'estimable', 'good'}\n",
      "{'badness', 'ill', 'evilness', 'evil', 'bad'}\n"
     ]
    }
   ],
   "source": [
    "synonyms = []\n",
    "antonyms = []\n",
    "for syn in wordnet.synsets(\"good\"):\n",
    "    for l in syn.lemmas():\n",
    "        print(l)\n",
    "        synonyms.append(l.name())\n",
    "        if l.antonyms():\n",
    "            antonyms.append(l.antonyms()[0].name())\n",
    "\n",
    "print(set(synonyms))\n",
    "print(set(antonyms))"
   ]
  },
  {
   "cell_type": "code",
   "execution_count": 20,
   "metadata": {
    "collapsed": true
   },
   "outputs": [],
   "source": [
    "w1 = wordnet.synset(\"ship.n.01\")\n",
    "w2 = wordnet.synset(\"boat.n.01\")"
   ]
  },
  {
   "cell_type": "code",
   "execution_count": 21,
   "metadata": {
    "collapsed": false
   },
   "outputs": [
    {
     "name": "stdout",
     "output_type": "stream",
     "text": [
      "0.9090909090909091\n"
     ]
    }
   ],
   "source": [
    "print(w1.wup_similarity(w2))"
   ]
  },
  {
   "cell_type": "code",
   "execution_count": 24,
   "metadata": {
    "collapsed": false
   },
   "outputs": [
    {
     "name": "stdout",
     "output_type": "stream",
     "text": [
      "0.6956521739130435\n"
     ]
    }
   ],
   "source": [
    "w1 = wordnet.synset(\"ship.n.01\")\n",
    "w2 = wordnet.synset(\"car.n.01\")\n",
    "print(w1.wup_similarity(w2))"
   ]
  },
  {
   "cell_type": "code",
   "execution_count": 26,
   "metadata": {
    "collapsed": false
   },
   "outputs": [
    {
     "name": "stdout",
     "output_type": "stream",
     "text": [
      "0.32\n"
     ]
    }
   ],
   "source": [
    "w1 = wordnet.synset(\"ship.n.01\")\n",
    "w2 = wordnet.synset(\"cat.n.01\")\n",
    "print(w1.wup_similarity(w2))"
   ]
  },
  {
   "cell_type": "code",
   "execution_count": 27,
   "metadata": {
    "collapsed": false
   },
   "outputs": [
    {
     "name": "stdout",
     "output_type": "stream",
     "text": [
      "0.38095238095238093\n"
     ]
    }
   ],
   "source": [
    "w1 = wordnet.synset(\"ship.n.01\")\n",
    "w2 = wordnet.synset(\"cactus.n.01\")\n",
    "print(w1.wup_similarity(w2))"
   ]
  },
  {
   "cell_type": "code",
   "execution_count": null,
   "metadata": {
    "collapsed": true
   },
   "outputs": [],
   "source": []
  }
 ],
 "metadata": {
  "kernelspec": {
   "display_name": "Python 3",
   "language": "python",
   "name": "python3"
  },
  "language_info": {
   "codemirror_mode": {
    "name": "ipython",
    "version": 3
   },
   "file_extension": ".py",
   "mimetype": "text/x-python",
   "name": "python",
   "nbconvert_exporter": "python",
   "pygments_lexer": "ipython3",
   "version": "3.6.0"
  }
 },
 "nbformat": 4,
 "nbformat_minor": 2
}
