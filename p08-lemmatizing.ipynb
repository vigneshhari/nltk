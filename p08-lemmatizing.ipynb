{
 "cells": [
  {
   "cell_type": "code",
   "execution_count": 3,
   "metadata": {
    "collapsed": false,
    "deletable": true,
    "editable": true
   },
   "outputs": [
    {
     "name": "stdout",
     "output_type": "stream",
     "text": [
      "cat\n",
      "unsuccessful\n",
      "good\n",
      "best\n",
      "run\n",
      "elevated\n",
      "burnt\n"
     ]
    }
   ],
   "source": [
    "from nltk.stem import WordNetLemmatizer\n",
    "print(WordNetLemmatizer().lemmatize('cats'))\n",
    "print(WordNetLemmatizer().lemmatize('better',pos=\"a\"))\n",
    "print(WordNetLemmatizer().lemmatize('best'))\n",
    "print(WordNetLemmatizer().lemmatize('run',pos='v'))\n",
    "print(WordNetLemmatizer().lemmatize('elevated'))\n",
    "print(WordNetLemmatizer().lemmatize('burnt'))"
   ]
  },
  {
   "cell_type": "code",
   "execution_count": null,
   "metadata": {
    "collapsed": true,
    "deletable": true,
    "editable": true
   },
   "outputs": [],
   "source": []
  }
 ],
 "metadata": {
  "kernelspec": {
   "display_name": "Python 3",
   "language": "python",
   "name": "python3"
  },
  "language_info": {
   "codemirror_mode": {
    "name": "ipython",
    "version": 3
   },
   "file_extension": ".py",
   "mimetype": "text/x-python",
   "name": "python",
   "nbconvert_exporter": "python",
   "pygments_lexer": "ipython3",
   "version": "3.6.0"
  }
 },
 "nbformat": 4,
 "nbformat_minor": 2
}
